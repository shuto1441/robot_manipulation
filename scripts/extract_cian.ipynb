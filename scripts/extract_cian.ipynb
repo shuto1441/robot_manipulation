{
 "cells": [
  {
   "cell_type": "code",
   "execution_count": 1,
   "id": "eac91dab",
   "metadata": {},
   "outputs": [],
   "source": [
    "import cv2 as cv\n",
    "import numpy as np\n",
    "from scipy.signal import argrelextrema\n",
    "import matplotlib.pyplot as plt\n",
    "import time"
   ]
  },
  {
   "cell_type": "code",
   "execution_count": 2,
   "id": "f6676b80",
   "metadata": {},
   "outputs": [],
   "source": [
    "frame=cv.imread('frame.jpg')\n",
    "# plt.imshow(frame)\n",
    "frame_b=frame[:,:,0]\n",
    "frame_g=frame[:,:,1]\n",
    "frame_r=frame[:,:,2]"
   ]
  },
  {
   "cell_type": "code",
   "execution_count": 3,
   "id": "14c2ac45",
   "metadata": {},
   "outputs": [],
   "source": [
    "frame_extract_cian=(frame_r<150)*(frame_b>170)*(frame_g>160)\n",
    "# plt.imshow(frame_extract_cian)"
   ]
  },
  {
   "cell_type": "code",
   "execution_count": 4,
   "id": "5ef3fc15",
   "metadata": {},
   "outputs": [
    {
     "name": "stdout",
     "output_type": "stream",
     "text": [
      "640\n",
      "1123.140625 691.825\n"
     ]
    }
   ],
   "source": [
    "diff_sum_x=np.sum(frame_extract_cian, axis=0)\n",
    "diff_sum_y=np.sum(frame_extract_cian, axis=1)\n",
    "# 画素の濃淡で重み付けして重心を計算\n",
    "diff_sum_all=np.sum(frame_extract_cian)\n",
    "print(diff_sum_all)\n",
    "axis_x=np.arange(diff_sum_x.size)\n",
    "axis_y=np.arange(diff_sum_y.size)\n",
    "ave_x=np.sum(diff_sum_x*axis_x)/diff_sum_all\n",
    "ave_y=np.sum(diff_sum_y*axis_y)/diff_sum_all\n",
    "print(ave_x,ave_y)"
   ]
  },
  {
   "cell_type": "code",
   "execution_count": null,
   "id": "c925504d",
   "metadata": {},
   "outputs": [],
   "source": []
  }
 ],
 "metadata": {
  "kernelspec": {
   "display_name": "Python 3 (ipykernel)",
   "language": "python",
   "name": "python3"
  },
  "language_info": {
   "codemirror_mode": {
    "name": "ipython",
    "version": 3
   },
   "file_extension": ".py",
   "mimetype": "text/x-python",
   "name": "python",
   "nbconvert_exporter": "python",
   "pygments_lexer": "ipython3",
   "version": "3.7.11"
  }
 },
 "nbformat": 4,
 "nbformat_minor": 5
}
