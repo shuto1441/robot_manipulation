{
 "cells": [
  {
   "cell_type": "code",
   "execution_count": 1,
   "id": "aae8dcd0",
   "metadata": {},
   "outputs": [],
   "source": [
    "import cv2 as cv\n",
    "import numpy as np\n",
    "from scipy.signal import argrelextrema\n",
    "import matplotlib.pyplot as plt\n",
    "import time"
   ]
  },
  {
   "cell_type": "code",
   "execution_count": 2,
   "id": "7dd74259",
   "metadata": {},
   "outputs": [
    {
     "data": {
      "text/plain": [
       "(720, 1280, 3)"
      ]
     },
     "execution_count": 2,
     "metadata": {},
     "output_type": "execute_result"
    }
   ],
   "source": [
    "frame=cv.imread('frame.jpg')\n",
    "# plt.imshow(frame)\n",
    "frame.shape"
   ]
  },
  {
   "cell_type": "code",
   "execution_count": 3,
   "id": "9c2f7100",
   "metadata": {},
   "outputs": [
    {
     "name": "stdout",
     "output_type": "stream",
     "text": [
      "[[ 8.01965400e-01  3.08448231e-02 -5.92220603e+01]\n",
      " [ 8.00057007e-03  8.24058717e-01 -8.29659116e+01]\n",
      " [ 2.00014252e-05  1.12703600e-04  1.00000000e+00]]\n"
     ]
    }
   ],
   "source": [
    "# 参考　https://qiita.com/code0327/items/c6e468da7007734c897f\n",
    "# 時計回りで左上から順に角を定義\n",
    "m = np.empty((4,2))\n",
    "\n",
    "# 720*1280用\n",
    "m[0] = [70,100]\n",
    "m[1] = [1100,90]\n",
    "m[2] = [1140,620]\n",
    "m[3] = [50,620]\n",
    "\n",
    "x_min,x_max=59,859\n",
    "y_min,y_max=-200,200\n",
    "width, height = (x_max-x_min,y_max-y_min) # 変形後画像サイズ\n",
    "\n",
    "marker_coordinates = np.float32(m)\n",
    "true_coordinates   = np.float32([[0,0],[width,0],[width,height],[0,height]])\n",
    "# true_coordinates   = np.float32([[x_max,y_min],[x_min,y_min],[x_min,y_max],[x_max,y_max]])\n",
    "trans_mat = cv.getPerspectiveTransform(marker_coordinates,true_coordinates)\n",
    "img_trans = cv.warpPerspective(frame,trans_mat,(width, height))\n",
    "# plt.imshow(img_trans)\n",
    "print(trans_mat)"
   ]
  },
  {
   "cell_type": "code",
   "execution_count": 4,
   "id": "af491bf7",
   "metadata": {},
   "outputs": [
    {
     "name": "stdout",
     "output_type": "stream",
     "text": [
      "[[ 8.01965400e-01  3.08448231e-02 -5.92220603e+01]\n",
      " [ 8.00057007e-03  8.24058717e-01 -8.29659116e+01]\n",
      " [ 2.00014252e-05  1.12703600e-04  1.00000000e+00]]\n"
     ]
    }
   ],
   "source": [
    "print(trans_mat)"
   ]
  },
  {
   "cell_type": "code",
   "execution_count": 5,
   "id": "049411a8",
   "metadata": {},
   "outputs": [
    {
     "name": "stdout",
     "output_type": "stream",
     "text": [
      "-59.22206028000923 -82.96591160152538\n"
     ]
    }
   ],
   "source": [
    "pix_x=0\n",
    "pix_y=0\n",
    "tmp0,tmp1,tmp2=np.dot(trans_mat,[pix_x,pix_y,1])\n",
    "print(tmp0,tmp1)"
   ]
  },
  {
   "cell_type": "code",
   "execution_count": 6,
   "id": "2a8189c0",
   "metadata": {},
   "outputs": [
    {
     "name": "stdout",
     "output_type": "stream",
     "text": [
      "918.2220602800093 -282.96591160152536\n"
     ]
    }
   ],
   "source": [
    "mm_x=width-tmp0+59\n",
    "mm_y=-height/2+tmp1\n",
    "print(mm_x,mm_y)"
   ]
  },
  {
   "cell_type": "code",
   "execution_count": null,
   "id": "4bea28de",
   "metadata": {},
   "outputs": [],
   "source": []
  }
 ],
 "metadata": {
  "kernelspec": {
   "display_name": "Python 3 (ipykernel)",
   "language": "python",
   "name": "python3"
  },
  "language_info": {
   "codemirror_mode": {
    "name": "ipython",
    "version": 3
   },
   "file_extension": ".py",
   "mimetype": "text/x-python",
   "name": "python",
   "nbconvert_exporter": "python",
   "pygments_lexer": "ipython3",
   "version": "3.7.11"
  }
 },
 "nbformat": 4,
 "nbformat_minor": 5
}
